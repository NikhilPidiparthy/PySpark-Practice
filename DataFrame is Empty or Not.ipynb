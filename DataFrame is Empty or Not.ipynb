{
 "cells": [
  {
   "cell_type": "code",
   "execution_count": 2,
   "metadata": {},
   "outputs": [
    {
     "data": {
      "text/plain": [
       "2"
      ]
     },
     "execution_count": 2,
     "metadata": {},
     "output_type": "execute_result"
    }
   ],
   "source": [
    "1+1"
   ]
  },
  {
   "cell_type": "code",
   "execution_count": 3,
   "metadata": {},
   "outputs": [
    {
     "name": "stderr",
     "output_type": "stream",
     "text": [
      "Setting default log level to \"WARN\".\n",
      "To adjust logging level use sc.setLogLevel(newLevel). For SparkR, use setLogLevel(newLevel).\n",
      "23/02/26 17:34:43 WARN NativeCodeLoader: Unable to load native-hadoop library for your platform... using builtin-java classes where applicable\n",
      "23/02/26 17:34:44 WARN Utils: Service 'SparkUI' could not bind on port 4040. Attempting port 4041.\n"
     ]
    }
   ],
   "source": [
    "from pyspark.sql import SparkSession\n",
    "spark = SparkSession.builder.appName(\"EmptyOrNot\").getOrCreate()"
   ]
  },
  {
   "cell_type": "code",
   "execution_count": 4,
   "metadata": {},
   "outputs": [
    {
     "name": "stdout",
     "output_type": "stream",
     "text": [
      "+---+------+-------------------+-------+--------+------+\n",
      "|cid| cname|           dateTime| amount|discount|member|\n",
      "+---+------+-------------------+-------+--------+------+\n",
      "|101|  Niki|2021-07-22 01:01:53|2415.12|     8 %|  True|\n",
      "|102| Raaki|2021-08-13 12:15:33|9399.22|    10 %|  True|\n",
      "|103| Maaki|2022-08-18 22:12:45|1384.16|    20 %| False|\n",
      "|104| Nibba|2022-07-08 14:18:37|2246.00|     9 %|  True|\n",
      "|105| Nibbi|2023-01-04 07:13:13|3145.13|    12 %| False|\n",
      "|106| ANiki|2021-07-22 01:01:53|2415.12|     8 %|  True|\n",
      "|107|BRaaki|2021-08-13 12:15:33|9399.22|    10 %|  True|\n",
      "|108|CMaaki|2022-08-18 22:12:45|1384.16|    null| False|\n",
      "|109|DNibba|2022-07-08 14:18:37|2246.00|     9 %|  True|\n",
      "|110|ENibbi|               null|3145.13|    12 %| False|\n",
      "+---+------+-------------------+-------+--------+------+\n",
      "\n"
     ]
    }
   ],
   "source": [
    "df = spark.read.csv(\"DataSets/transactions_*.csv\",header=True)\n",
    "df.show()"
   ]
  },
  {
   "cell_type": "code",
   "execution_count": 5,
   "metadata": {},
   "outputs": [
    {
     "name": "stdout",
     "output_type": "stream",
     "text": [
      "DF is Not Empty\n"
     ]
    }
   ],
   "source": [
    "if df.count():\n",
    "    print(\"DF is Not Empty\")\n",
    "else:\n",
    "    print(\"DF is Empty\")"
   ]
  },
  {
   "cell_type": "code",
   "execution_count": 6,
   "metadata": {},
   "outputs": [
    {
     "name": "stdout",
     "output_type": "stream",
     "text": [
      "DF is Not Empty\n"
     ]
    }
   ],
   "source": [
    "if df.first():\n",
    "    print(\"DF is Not Empty\")\n",
    "else:\n",
    "    print(\"DF is Empty\")"
   ]
  },
  {
   "cell_type": "code",
   "execution_count": 7,
   "metadata": {},
   "outputs": [
    {
     "name": "stdout",
     "output_type": "stream",
     "text": [
      "DF is Not Empty\n"
     ]
    }
   ],
   "source": [
    "if df.take(1):\n",
    "    print(\"DF is Not Empty\")\n",
    "else:\n",
    "    print(\"DF is Empty\")"
   ]
  },
  {
   "cell_type": "code",
   "execution_count": 12,
   "metadata": {},
   "outputs": [
    {
     "name": "stdout",
     "output_type": "stream",
     "text": [
      "DF is Not Empty\n"
     ]
    }
   ],
   "source": [
    "if df.rdd.isEmpty():\n",
    "    print(\"DF is Empty\")\n",
    "else:\n",
    "    print(\"DF is Not Empty\")"
   ]
  },
  {
   "cell_type": "code",
   "execution_count": null,
   "metadata": {},
   "outputs": [],
   "source": []
  },
  {
   "cell_type": "code",
   "execution_count": null,
   "metadata": {},
   "outputs": [],
   "source": []
  },
  {
   "cell_type": "code",
   "execution_count": null,
   "metadata": {},
   "outputs": [],
   "source": []
  },
  {
   "cell_type": "code",
   "execution_count": null,
   "metadata": {},
   "outputs": [],
   "source": []
  },
  {
   "cell_type": "code",
   "execution_count": null,
   "metadata": {},
   "outputs": [],
   "source": []
  }
 ],
 "metadata": {
  "kernelspec": {
   "display_name": "Python 3.8.10 64-bit",
   "language": "python",
   "name": "python3"
  },
  "language_info": {
   "codemirror_mode": {
    "name": "ipython",
    "version": 3
   },
   "file_extension": ".py",
   "mimetype": "text/x-python",
   "name": "python",
   "nbconvert_exporter": "python",
   "pygments_lexer": "ipython3",
   "version": "3.8.10"
  },
  "orig_nbformat": 4,
  "vscode": {
   "interpreter": {
    "hash": "e7370f93d1d0cde622a1f8e1c04877d8463912d04d973331ad4851f04de6915a"
   }
  }
 },
 "nbformat": 4,
 "nbformat_minor": 2
}
