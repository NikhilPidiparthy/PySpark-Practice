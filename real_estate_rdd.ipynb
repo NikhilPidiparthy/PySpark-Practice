{
 "cells": [
  {
   "cell_type": "code",
   "execution_count": 2,
   "metadata": {},
   "outputs": [
    {
     "data": {
      "text/plain": [
       "2"
      ]
     },
     "execution_count": 2,
     "metadata": {},
     "output_type": "execute_result"
    }
   ],
   "source": [
    "1+1"
   ]
  },
  {
   "cell_type": "code",
   "execution_count": 3,
   "metadata": {},
   "outputs": [
    {
     "name": "stderr",
     "output_type": "stream",
     "text": [
      "Setting default log level to \"WARN\".\n",
      "To adjust logging level use sc.setLogLevel(newLevel). For SparkR, use setLogLevel(newLevel).\n",
      "23/02/28 23:19:55 WARN NativeCodeLoader: Unable to load native-hadoop library for your platform... using builtin-java classes where applicable\n"
     ]
    }
   ],
   "source": [
    "from pyspark.sql import SparkSession\n",
    "spark = SparkSession.builder.appName(\"Ex1\").getOrCreate()"
   ]
  },
  {
   "cell_type": "code",
   "execution_count": 4,
   "metadata": {},
   "outputs": [
    {
     "data": {
      "text/html": [
       "\n",
       "        <div>\n",
       "            <p><b>SparkContext</b></p>\n",
       "\n",
       "            <p><a href=\"http://aec2ec95cc11:4040\">Spark UI</a></p>\n",
       "\n",
       "            <dl>\n",
       "              <dt>Version</dt>\n",
       "                <dd><code>v3.2.1</code></dd>\n",
       "              <dt>Master</dt>\n",
       "                <dd><code>local[*]</code></dd>\n",
       "              <dt>AppName</dt>\n",
       "                <dd><code>Ex1</code></dd>\n",
       "            </dl>\n",
       "        </div>\n",
       "        "
      ],
      "text/plain": [
       "<SparkContext master=local[*] appName=Ex1>"
      ]
     },
     "execution_count": 4,
     "metadata": {},
     "output_type": "execute_result"
    }
   ],
   "source": [
    "sc = spark.sparkContext\n",
    "sc"
   ]
  },
  {
   "cell_type": "code",
   "execution_count": 6,
   "metadata": {},
   "outputs": [
    {
     "data": {
      "text/plain": [
       "['Property_ID|Location|Price|Bedrooms|Bathrooms|Size|Price_SQ_FT|Status',\n",
       " '1461262|Arroyo Grande|795000|3|3|2371|365.3|Short Sale',\n",
       " '1478004|Paulo Pablo|399000|4|3|2818|163.59|Short Sale',\n",
       " '1486551|Paulo Pablo|545000|4|3|3032|179.75|Short Sale',\n",
       " '1492832|Santa Bay|909000|4|4|3540|286.78|Short Sale',\n",
       " '1499102|Thomas Country|109900|3|1|1249|98.99|Short Sale',\n",
       " '1489132|Thomas Country|109000|2|1|1129|93.99|Short Sale',\n",
       " '1467262|Fort Worth|987000|4|3|2771|465.3|Short Sale',\n",
       " '1478114|Paulo Pablo|409000|4|3|2918|223.19|Short Sale',\n",
       " '1402551|Nashville|545000|4|3|2932|169.75|Short Sale',\n",
       " '1405832|San Jose|980000|4|4|3340|290.98|Short Sale',\n",
       " '1493302|Fort Worth|119900|3|2|2249|198.99|Short Sale',\n",
       " '1412332|Thomas Country|129000|3|2|1329|73.99|Short Sale',\n",
       " '1469062|Arroyo Grande|798000|3|4|2321|235.9|Short Sale',\n",
       " '1498004|Nashville|789000|4|3|2419|263.59|Short Sale',\n",
       " '1586751|Nashville|896000|4|3|3132|199.75|Short Sale',\n",
       " '1433232|Glendale|987000|4|4|3340|216.78|Short Sale',\n",
       " '1495502|Fort Worth|219900|3|2|987|200.99|Short Sale',\n",
       " '1489100|San Jose|107200|1|1|789|78.99|Short Sale']"
      ]
     },
     "execution_count": 6,
     "metadata": {},
     "output_type": "execute_result"
    }
   ],
   "source": [
    "R1 = sc.textFile(\"DataSets/real_estate_sample.txt\")\n",
    "R1.collect()"
   ]
  },
  {
   "cell_type": "code",
   "execution_count": 7,
   "metadata": {},
   "outputs": [
    {
     "data": {
      "text/plain": [
       "19"
      ]
     },
     "execution_count": 7,
     "metadata": {},
     "output_type": "execute_result"
    }
   ],
   "source": [
    "R1.count()"
   ]
  },
  {
   "cell_type": "code",
   "execution_count": 8,
   "metadata": {},
   "outputs": [
    {
     "data": {
      "text/plain": [
       "'Property_ID|Location|Price|Bedrooms|Bathrooms|Size|Price_SQ_FT|Status'"
      ]
     },
     "execution_count": 8,
     "metadata": {},
     "output_type": "execute_result"
    }
   ],
   "source": [
    "R1.first()"
   ]
  },
  {
   "cell_type": "code",
   "execution_count": 33,
   "metadata": {},
   "outputs": [
    {
     "data": {
      "text/plain": [
       "['Property_ID',\n",
       " 'Location',\n",
       " 'Price',\n",
       " 'Bedrooms',\n",
       " 'Bathrooms',\n",
       " 'Size',\n",
       " 'Price_SQ_FT',\n",
       " 'Status']"
      ]
     },
     "execution_count": 33,
     "metadata": {},
     "output_type": "execute_result"
    }
   ],
   "source": [
    "header = R1.first()\n",
    "header_cols = header.split(\"|\")\n",
    "header_cols"
   ]
  },
  {
   "cell_type": "code",
   "execution_count": 40,
   "metadata": {},
   "outputs": [
    {
     "data": {
      "text/plain": [
       "['Property_ID|Location|Price|Bedrooms|Bathrooms|Size|Price_SQ_FT|Status']"
      ]
     },
     "execution_count": 40,
     "metadata": {},
     "output_type": "execute_result"
    }
   ],
   "source": [
    "header_cols_rdd = R1.filter(lambda x:  x.startswith('Property_ID|'))\n",
    "header_cols_rdd.collect()"
   ]
  },
  {
   "cell_type": "code",
   "execution_count": 26,
   "metadata": {},
   "outputs": [
    {
     "data": {
      "text/plain": [
       "['1461262|Arroyo Grande|795000|3|3|2371|365.3|Short Sale',\n",
       " '1478004|Paulo Pablo|399000|4|3|2818|163.59|Short Sale',\n",
       " '1486551|Paulo Pablo|545000|4|3|3032|179.75|Short Sale',\n",
       " '1492832|Santa Bay|909000|4|4|3540|286.78|Short Sale',\n",
       " '1499102|Thomas Country|109900|3|1|1249|98.99|Short Sale',\n",
       " '1489132|Thomas Country|109000|2|1|1129|93.99|Short Sale',\n",
       " '1467262|Fort Worth|987000|4|3|2771|465.3|Short Sale',\n",
       " '1478114|Paulo Pablo|409000|4|3|2918|223.19|Short Sale',\n",
       " '1402551|Nashville|545000|4|3|2932|169.75|Short Sale',\n",
       " '1405832|San Jose|980000|4|4|3340|290.98|Short Sale',\n",
       " '1493302|Fort Worth|119900|3|2|2249|198.99|Short Sale',\n",
       " '1412332|Thomas Country|129000|3|2|1329|73.99|Short Sale',\n",
       " '1469062|Arroyo Grande|798000|3|4|2321|235.9|Short Sale',\n",
       " '1498004|Nashville|789000|4|3|2419|263.59|Short Sale',\n",
       " '1586751|Nashville|896000|4|3|3132|199.75|Short Sale',\n",
       " '1433232|Glendale|987000|4|4|3340|216.78|Short Sale',\n",
       " '1495502|Fort Worth|219900|3|2|987|200.99|Short Sale',\n",
       " '1489100|San Jose|107200|1|1|789|78.99|Short Sale']"
      ]
     },
     "execution_count": 26,
     "metadata": {},
     "output_type": "execute_result"
    }
   ],
   "source": [
    "R2 = R1.filter(lambda x: not x.startswith('Property_ID|'))\n",
    "R2.collect()"
   ]
  },
  {
   "cell_type": "code",
   "execution_count": 30,
   "metadata": {},
   "outputs": [
    {
     "data": {
      "text/plain": [
       "[['1461262',\n",
       "  'Arroyo Grande',\n",
       "  '795000',\n",
       "  '3',\n",
       "  '3',\n",
       "  '2371',\n",
       "  '365.3',\n",
       "  'Short Sale'],\n",
       " ['1478004',\n",
       "  'Paulo Pablo',\n",
       "  '399000',\n",
       "  '4',\n",
       "  '3',\n",
       "  '2818',\n",
       "  '163.59',\n",
       "  'Short Sale'],\n",
       " ['1486551',\n",
       "  'Paulo Pablo',\n",
       "  '545000',\n",
       "  '4',\n",
       "  '3',\n",
       "  '3032',\n",
       "  '179.75',\n",
       "  'Short Sale']]"
      ]
     },
     "execution_count": 30,
     "metadata": {},
     "output_type": "execute_result"
    }
   ],
   "source": [
    "R3 = R2.map(lambda x: x.split(\",\")).map(lambda x: x[0].split(\"|\"))\n",
    "R3.take(3)"
   ]
  },
  {
   "cell_type": "code",
   "execution_count": 42,
   "metadata": {},
   "outputs": [
    {
     "data": {
      "text/plain": [
       "['Property_ID|Location|Price|Bedrooms|Bathrooms|Size|Price_SQ_FT|Status']"
      ]
     },
     "execution_count": 42,
     "metadata": {},
     "output_type": "execute_result"
    }
   ],
   "source": [
    "header_cols_rdd.collect()"
   ]
  },
  {
   "cell_type": "code",
   "execution_count": 45,
   "metadata": {},
   "outputs": [
    {
     "data": {
      "text/plain": [
       "(0, 1, 5, 6)"
      ]
     },
     "execution_count": 45,
     "metadata": {},
     "output_type": "execute_result"
    }
   ],
   "source": [
    "\n",
    "header_cols = header_cols_rdd.first().split(\"|\")\n",
    "\n",
    "i1 = header_cols.index(\"Property_ID\")\n",
    "i2 = header_cols.index(\"Location\")\n",
    "i3 = header_cols.index(\"Size\")\n",
    "i4 = header_cols.index(\"Price_SQ_FT\")\n",
    "\n",
    "i1,i2,i3,i4"
   ]
  },
  {
   "cell_type": "code",
   "execution_count": 56,
   "metadata": {},
   "outputs": [
    {
     "data": {
      "text/plain": [
       "['Property_ID|Location|FinalPrice']"
      ]
     },
     "execution_count": 56,
     "metadata": {},
     "output_type": "execute_result"
    }
   ],
   "source": [
    "header_cols_final_rdd = header_cols_rdd.map(lambda x: x.split(\"|\")[i1] +\"|\"+ x.split(\"|\")[i2] + \"|FinalPrice\")\n",
    "header_cols_final_rdd.collect()"
   ]
  },
  {
   "cell_type": "code",
   "execution_count": 57,
   "metadata": {},
   "outputs": [],
   "source": [
    "#Final_Price = (Size * Price_SQ_FT)\n",
    "\n",
    "def func_final(Size,Price_SQ_FT):\n",
    "    #Price_SQ_FT = Price_SQ_FT\n",
    "    #Size  = \n",
    "    return str(float(Size) * float(Price_SQ_FT))"
   ]
  },
  {
   "cell_type": "code",
   "execution_count": 59,
   "metadata": {},
   "outputs": [
    {
     "data": {
      "text/plain": [
       "['1461262|Arroyo Grande|866126.3',\n",
       " '1478004|Paulo Pablo|460996.62',\n",
       " '1486551|Paulo Pablo|545002.0']"
      ]
     },
     "execution_count": 59,
     "metadata": {},
     "output_type": "execute_result"
    }
   ],
   "source": [
    "R4 = R3.map(lambda x :x[i1]+\"|\"+x[i2]+\"|\"+func_final(x[i3],x[i4]))\n",
    "R4.take(3)"
   ]
  },
  {
   "cell_type": "code",
   "execution_count": 60,
   "metadata": {},
   "outputs": [
    {
     "data": {
      "text/plain": [
       "['1461262|Arroyo Grande|866126.3',\n",
       " '1478004|Paulo Pablo|460996.62',\n",
       " '1486551|Paulo Pablo|545002.0',\n",
       " '1492832|Santa Bay|1015201.2',\n",
       " '1499102|Thomas Country|123638.51',\n",
       " '1489132|Thomas Country|106114.70999999999',\n",
       " '1467262|Fort Worth|1289346.3',\n",
       " '1478114|Paulo Pablo|651268.42',\n",
       " '1402551|Nashville|497707.0',\n",
       " '1405832|San Jose|971873.2000000001',\n",
       " '1493302|Fort Worth|447528.51',\n",
       " '1412332|Thomas Country|98332.70999999999',\n",
       " '1469062|Arroyo Grande|547523.9',\n",
       " '1498004|Nashville|637624.21',\n",
       " '1586751|Nashville|625617.0',\n",
       " '1433232|Glendale|724045.2',\n",
       " '1495502|Fort Worth|198377.13',\n",
       " '1489100|San Jose|62323.10999999999']"
      ]
     },
     "execution_count": 60,
     "metadata": {},
     "output_type": "execute_result"
    }
   ],
   "source": [
    "R4.collect()"
   ]
  },
  {
   "cell_type": "code",
   "execution_count": 61,
   "metadata": {},
   "outputs": [
    {
     "data": {
      "text/plain": [
       "['Property_ID|Location|FinalPrice',\n",
       " '1461262|Arroyo Grande|866126.3',\n",
       " '1478004|Paulo Pablo|460996.62',\n",
       " '1486551|Paulo Pablo|545002.0',\n",
       " '1492832|Santa Bay|1015201.2',\n",
       " '1499102|Thomas Country|123638.51',\n",
       " '1489132|Thomas Country|106114.70999999999',\n",
       " '1467262|Fort Worth|1289346.3',\n",
       " '1478114|Paulo Pablo|651268.42',\n",
       " '1402551|Nashville|497707.0',\n",
       " '1405832|San Jose|971873.2000000001',\n",
       " '1493302|Fort Worth|447528.51',\n",
       " '1412332|Thomas Country|98332.70999999999',\n",
       " '1469062|Arroyo Grande|547523.9',\n",
       " '1498004|Nashville|637624.21',\n",
       " '1586751|Nashville|625617.0',\n",
       " '1433232|Glendale|724045.2',\n",
       " '1495502|Fort Worth|198377.13',\n",
       " '1489100|San Jose|62323.10999999999']"
      ]
     },
     "execution_count": 61,
     "metadata": {},
     "output_type": "execute_result"
    }
   ],
   "source": [
    "Final_rdd = header_cols_final_rdd.union(R4)\n",
    "Final_rdd.collect()"
   ]
  },
  {
   "cell_type": "code",
   "execution_count": null,
   "metadata": {},
   "outputs": [],
   "source": [
    "sc."
   ]
  }
 ],
 "metadata": {
  "kernelspec": {
   "display_name": "Python 3.8.10 64-bit",
   "language": "python",
   "name": "python3"
  },
  "language_info": {
   "codemirror_mode": {
    "name": "ipython",
    "version": 3
   },
   "file_extension": ".py",
   "mimetype": "text/x-python",
   "name": "python",
   "nbconvert_exporter": "python",
   "pygments_lexer": "ipython3",
   "version": "3.8.10"
  },
  "orig_nbformat": 4,
  "vscode": {
   "interpreter": {
    "hash": "e7370f93d1d0cde622a1f8e1c04877d8463912d04d973331ad4851f04de6915a"
   }
  }
 },
 "nbformat": 4,
 "nbformat_minor": 2
}
