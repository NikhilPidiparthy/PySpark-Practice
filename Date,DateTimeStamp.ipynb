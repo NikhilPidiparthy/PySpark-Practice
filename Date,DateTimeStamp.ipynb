{
 "cells": [
  {
   "cell_type": "code",
   "execution_count": 1,
   "metadata": {},
   "outputs": [
    {
     "data": {
      "text/plain": [
       "3"
      ]
     },
     "execution_count": 1,
     "metadata": {},
     "output_type": "execute_result"
    }
   ],
   "source": [
    "1+2"
   ]
  },
  {
   "cell_type": "code",
   "execution_count": 2,
   "metadata": {},
   "outputs": [
    {
     "name": "stderr",
     "output_type": "stream",
     "text": [
      "Setting default log level to \"WARN\".\n",
      "To adjust logging level use sc.setLogLevel(newLevel). For SparkR, use setLogLevel(newLevel).\n",
      "23/03/01 00:33:16 WARN NativeCodeLoader: Unable to load native-hadoop library for your platform... using builtin-java classes where applicable\n",
      "23/03/01 00:33:17 WARN Utils: Service 'SparkUI' could not bind on port 4040. Attempting port 4041.\n"
     ]
    }
   ],
   "source": [
    "from pyspark.sql import SparkSession\n",
    "spark = SparkSession.builder.appName(\"Date Time\").getOrCreate()"
   ]
  },
  {
   "cell_type": "code",
   "execution_count": 12,
   "metadata": {},
   "outputs": [
    {
     "name": "stdout",
     "output_type": "stream",
     "text": [
      "+-----------+-------------+--------+-------------------+----------------+-------+\n",
      "|Customer_No|    Card_type|    Date|           Category|Transaction Type| Amount|\n",
      "+-----------+-------------+--------+-------------------+----------------+-------+\n",
      "|    1000501|Platinum Card|1/1/2018|           Shopping|           debit|  11.11|\n",
      "|    1000501|     Checking|1/2/2018|    Mortgage & Rent|           debit|1247.44|\n",
      "|    1000501|  Silver Card|1/2/2018|        Restaurants|           debit|  24.22|\n",
      "|    1000501|Platinum Card|1/3/2018|Credit Card Payment|          credit|2298.09|\n",
      "|    1000501|Platinum Card|1/4/2018|      Movies & DVDs|           debit|  11.76|\n",
      "+-----------+-------------+--------+-------------------+----------------+-------+\n",
      "only showing top 5 rows\n",
      "\n"
     ]
    }
   ],
   "source": [
    "df1 = spark.read.format(\"csv\").option(\"header\",True).option(\"inferschema\",True).load(\"DataSets/transactions.csv\")\n",
    "\n",
    "df1.show(5)"
   ]
  },
  {
   "cell_type": "code",
   "execution_count": 13,
   "metadata": {},
   "outputs": [
    {
     "name": "stdout",
     "output_type": "stream",
     "text": [
      "root\n",
      " |-- Customer_No: integer (nullable = true)\n",
      " |-- Card_type: string (nullable = true)\n",
      " |-- Date: string (nullable = true)\n",
      " |-- Category: string (nullable = true)\n",
      " |-- Transaction Type: string (nullable = true)\n",
      " |-- Amount: double (nullable = true)\n",
      "\n"
     ]
    }
   ],
   "source": [
    "df1.printSchema()\n",
    "\n",
    "# Check Date Column Type"
   ]
  },
  {
   "cell_type": "code",
   "execution_count": 27,
   "metadata": {},
   "outputs": [
    {
     "name": "stdout",
     "output_type": "stream",
     "text": [
      "+-----------+-------------+-------------------+-------------------+----------------+-------+\n",
      "|Customer_No|    Card_type|               Date|           Category|Transaction Type| Amount|\n",
      "+-----------+-------------+-------------------+-------------------+----------------+-------+\n",
      "|    1000501|Platinum Card|2018-01-01 00:00:00|           Shopping|           debit|  11.11|\n",
      "|    1000501|     Checking|2018-01-02 00:00:00|    Mortgage & Rent|           debit|1247.44|\n",
      "|    1000501|  Silver Card|2018-01-02 00:00:00|        Restaurants|           debit|  24.22|\n",
      "|    1000501|Platinum Card|2018-01-03 00:00:00|Credit Card Payment|          credit|2298.09|\n",
      "|    1000501|Platinum Card|2018-01-04 00:00:00|      Movies & DVDs|           debit|  11.76|\n",
      "+-----------+-------------+-------------------+-------------------+----------------+-------+\n",
      "only showing top 5 rows\n",
      "\n"
     ]
    }
   ],
   "source": [
    "df2 = spark.read.format(\"csv\").option(\"header\",True).option(\"inferschema\",True).option(\"timestampFormat\",\"M/d/yyyy\").load(\"DataSets/transactions.csv\")\n",
    "\n",
    "df2.show(5)"
   ]
  },
  {
   "cell_type": "code",
   "execution_count": 25,
   "metadata": {},
   "outputs": [
    {
     "name": "stdout",
     "output_type": "stream",
     "text": [
      "root\n",
      " |-- Customer_No: integer (nullable = true)\n",
      " |-- Card_type: string (nullable = true)\n",
      " |-- Date: timestamp (nullable = true)\n",
      " |-- Category: string (nullable = true)\n",
      " |-- Transaction Type: string (nullable = true)\n",
      " |-- Amount: double (nullable = true)\n",
      "\n"
     ]
    }
   ],
   "source": [
    "df2.printSchema()\n",
    "\n",
    "# Check Date Column Type"
   ]
  },
  {
   "cell_type": "code",
   "execution_count": 33,
   "metadata": {},
   "outputs": [
    {
     "name": "stdout",
     "output_type": "stream",
     "text": [
      "+-----------+-------------+--------+-------------------+----------------+-------+\n",
      "|Customer_No|    Card_type|    Date|           Category|Transaction Type| Amount|\n",
      "+-----------+-------------+--------+-------------------+----------------+-------+\n",
      "|    1000501|Platinum Card|1/1/2018|           Shopping|           debit|  11.11|\n",
      "|    1000501|     Checking|1/2/2018|    Mortgage & Rent|           debit|1247.44|\n",
      "|    1000501|  Silver Card|1/2/2018|        Restaurants|           debit|  24.22|\n",
      "|    1000501|Platinum Card|1/3/2018|Credit Card Payment|          credit|2298.09|\n",
      "|    1000501|Platinum Card|1/4/2018|      Movies & DVDs|           debit|  11.76|\n",
      "+-----------+-------------+--------+-------------------+----------------+-------+\n",
      "only showing top 5 rows\n",
      "\n"
     ]
    }
   ],
   "source": [
    "df3 = spark.read.format(\"csv\").option(\"header\",True).option(\"inferschema\",True).option(\"dateformat\",\"M/d/yyyy\").load(\"DataSets/transactions.csv\")\n",
    "\n",
    "df3.show(5)"
   ]
  },
  {
   "cell_type": "code",
   "execution_count": 34,
   "metadata": {},
   "outputs": [
    {
     "name": "stdout",
     "output_type": "stream",
     "text": [
      "root\n",
      " |-- Customer_No: integer (nullable = true)\n",
      " |-- Card_type: string (nullable = true)\n",
      " |-- Date: string (nullable = true)\n",
      " |-- Category: string (nullable = true)\n",
      " |-- Transaction Type: string (nullable = true)\n",
      " |-- Amount: double (nullable = true)\n",
      "\n"
     ]
    }
   ],
   "source": [
    "df3.printSchema()\n",
    "\n",
    "\n",
    "# Check Date Column Type"
   ]
  },
  {
   "cell_type": "code",
   "execution_count": null,
   "metadata": {},
   "outputs": [],
   "source": []
  },
  {
   "cell_type": "code",
   "execution_count": null,
   "metadata": {},
   "outputs": [],
   "source": []
  }
 ],
 "metadata": {
  "kernelspec": {
   "display_name": "Python 3.8.10 64-bit",
   "language": "python",
   "name": "python3"
  },
  "language_info": {
   "codemirror_mode": {
    "name": "ipython",
    "version": 3
   },
   "file_extension": ".py",
   "mimetype": "text/x-python",
   "name": "python",
   "nbconvert_exporter": "python",
   "pygments_lexer": "ipython3",
   "version": "3.8.10"
  },
  "orig_nbformat": 4,
  "vscode": {
   "interpreter": {
    "hash": "e7370f93d1d0cde622a1f8e1c04877d8463912d04d973331ad4851f04de6915a"
   }
  }
 },
 "nbformat": 4,
 "nbformat_minor": 2
}
