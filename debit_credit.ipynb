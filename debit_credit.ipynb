{
 "cells": [
  {
   "cell_type": "code",
   "execution_count": 2,
   "metadata": {},
   "outputs": [
    {
     "name": "stderr",
     "output_type": "stream",
     "text": [
      "Setting default log level to \"WARN\".\n",
      "To adjust logging level use sc.setLogLevel(newLevel). For SparkR, use setLogLevel(newLevel).\n",
      "23/02/26 22:59:30 WARN NativeCodeLoader: Unable to load native-hadoop library for your platform... using builtin-java classes where applicable\n",
      "23/02/26 22:59:31 WARN Utils: Service 'SparkUI' could not bind on port 4040. Attempting port 4041.\n"
     ]
    }
   ],
   "source": [
    "from pyspark.sql import SparkSession\n",
    "spark = SparkSession.builder.appName(\"DebitCredit\").getOrCreate()"
   ]
  },
  {
   "cell_type": "code",
   "execution_count": 32,
   "metadata": {},
   "outputs": [
    {
     "name": "stdout",
     "output_type": "stream",
     "text": [
      "+---+-----+---------------+------+\n",
      "|Cid|CName|TransactionType|Amount|\n",
      "+---+-----+---------------+------+\n",
      "|101|  Nik|          debit|    10|\n",
      "|101|  Nik|         credit|   100|\n",
      "|101|  Nik|          debit|    50|\n",
      "|102| Raki|         credit|  1000|\n",
      "|102| Raki|         credit|   100|\n",
      "|102| Raki|          debit|    50|\n",
      "|103|Nibbi|         credit|  1000|\n",
      "|104|Nibba|          debit|  1000|\n",
      "|104|Nibba|         credit|   400|\n",
      "|104|Nibba|          debit|   400|\n",
      "|103|Nibbi|         credit|   400|\n",
      "+---+-----+---------------+------+\n",
      "\n"
     ]
    }
   ],
   "source": [
    "df = spark.read.csv(\"DataSets/debit_credit.csv\",header=True)\n",
    "df.show()"
   ]
  },
  {
   "cell_type": "code",
   "execution_count": 33,
   "metadata": {},
   "outputs": [],
   "source": [
    "from pyspark.sql.functions import when,col,sum"
   ]
  },
  {
   "cell_type": "code",
   "execution_count": 34,
   "metadata": {},
   "outputs": [
    {
     "name": "stdout",
     "output_type": "stream",
     "text": [
      "+---+-----+---------------+------+------------+\n",
      "|Cid|CName|TransactionType|Amount|Amount_cr_db|\n",
      "+---+-----+---------------+------+------------+\n",
      "|101|  Nik|          debit|    10|       -10.0|\n",
      "|101|  Nik|         credit|   100|         100|\n",
      "|101|  Nik|          debit|    50|       -50.0|\n",
      "|102| Raki|         credit|  1000|        1000|\n",
      "|102| Raki|         credit|   100|         100|\n",
      "|102| Raki|          debit|    50|       -50.0|\n",
      "|103|Nibbi|         credit|  1000|        1000|\n",
      "|104|Nibba|          debit|  1000|     -1000.0|\n",
      "|104|Nibba|         credit|   400|         400|\n",
      "|104|Nibba|          debit|   400|      -400.0|\n",
      "|103|Nibbi|         credit|   400|         400|\n",
      "+---+-----+---------------+------+------------+\n",
      "\n"
     ]
    }
   ],
   "source": [
    "df1 = df.withColumn(\"Amount_cr_db\",when(col(\"TransactionType\")==\"debit\",-1*col(\"Amount\")).otherwise(col(\"Amount\")))\n",
    "df1.show()"
   ]
  },
  {
   "cell_type": "code",
   "execution_count": 35,
   "metadata": {},
   "outputs": [
    {
     "name": "stdout",
     "output_type": "stream",
     "text": [
      "+---+------------+\n",
      "|Cid|Total Amount|\n",
      "+---+------------+\n",
      "|101|        40.0|\n",
      "|104|     -1000.0|\n",
      "|102|      1050.0|\n",
      "|103|      1400.0|\n",
      "+---+------------+\n",
      "\n"
     ]
    }
   ],
   "source": [
    "df1.groupBy(col(\"Cid\")).agg(sum(\"Amount_cr_db\").alias(\"Total Amount\")).show()"
   ]
  },
  {
   "cell_type": "code",
   "execution_count": 37,
   "metadata": {},
   "outputs": [
    {
     "name": "stdout",
     "output_type": "stream",
     "text": [
      "+---+-----+------+------+\n",
      "|Cid|CName|credit| debit|\n",
      "+---+-----+------+------+\n",
      "|101|  Nik| 100.0|  60.0|\n",
      "|104|Nibba| 400.0|1400.0|\n",
      "|102| Raki|1100.0|  50.0|\n",
      "|103|Nibbi|1400.0|  null|\n",
      "+---+-----+------+------+\n",
      "\n"
     ]
    }
   ],
   "source": [
    "df2 = df.groupBy([\"Cid\",\"CName\"]).pivot(\"TransactionType\").agg(sum(\"Amount\"))\n",
    "\n",
    "df2.show()"
   ]
  },
  {
   "cell_type": "code",
   "execution_count": 41,
   "metadata": {},
   "outputs": [
    {
     "name": "stdout",
     "output_type": "stream",
     "text": [
      "+---+-----+------+------+\n",
      "|Cid|CName|credit| debit|\n",
      "+---+-----+------+------+\n",
      "|101|  Nik| 100.0|  60.0|\n",
      "|104|Nibba| 400.0|1400.0|\n",
      "|102| Raki|1100.0|  50.0|\n",
      "|103|Nibbi|1400.0|   0.0|\n",
      "+---+-----+------+------+\n",
      "\n"
     ]
    }
   ],
   "source": [
    "df2 = df2.fillna(0)\n",
    "df2.show()"
   ]
  },
  {
   "cell_type": "code",
   "execution_count": 42,
   "metadata": {},
   "outputs": [
    {
     "name": "stdout",
     "output_type": "stream",
     "text": [
      "+---+-----+------+------+---------+\n",
      "|Cid|CName|credit| debit|Total Bal|\n",
      "+---+-----+------+------+---------+\n",
      "|101|  Nik| 100.0|  60.0|     40.0|\n",
      "|104|Nibba| 400.0|1400.0|  -1000.0|\n",
      "|102| Raki|1100.0|  50.0|   1050.0|\n",
      "|103|Nibbi|1400.0|   0.0|   1400.0|\n",
      "+---+-----+------+------+---------+\n",
      "\n"
     ]
    }
   ],
   "source": [
    "df2.withColumn(\"Total Bal\",col(\"credit\")-col(\"debit\")).show()"
   ]
  },
  {
   "cell_type": "code",
   "execution_count": null,
   "metadata": {},
   "outputs": [],
   "source": []
  },
  {
   "cell_type": "code",
   "execution_count": null,
   "metadata": {},
   "outputs": [],
   "source": []
  },
  {
   "cell_type": "code",
   "execution_count": null,
   "metadata": {},
   "outputs": [],
   "source": []
  }
 ],
 "metadata": {
  "kernelspec": {
   "display_name": "Python 3.8.10 64-bit",
   "language": "python",
   "name": "python3"
  },
  "language_info": {
   "codemirror_mode": {
    "name": "ipython",
    "version": 3
   },
   "file_extension": ".py",
   "mimetype": "text/x-python",
   "name": "python",
   "nbconvert_exporter": "python",
   "pygments_lexer": "ipython3",
   "version": "3.8.10"
  },
  "orig_nbformat": 4,
  "vscode": {
   "interpreter": {
    "hash": "e7370f93d1d0cde622a1f8e1c04877d8463912d04d973331ad4851f04de6915a"
   }
  }
 },
 "nbformat": 4,
 "nbformat_minor": 2
}
